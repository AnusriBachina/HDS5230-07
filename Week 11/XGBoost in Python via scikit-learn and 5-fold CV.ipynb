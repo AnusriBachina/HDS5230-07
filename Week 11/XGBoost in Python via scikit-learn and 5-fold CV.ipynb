{
  "cells": [
    {
      "cell_type": "markdown",
      "source": [
        "XGBoost in Python via scikit-learn and 5-fold CV"
      ],
      "metadata": {
        "id": "II3MCCAOpWZi"
      }
    },
    {
      "cell_type": "code",
      "source": [
        "#import libraries\n",
        "import pyreadr\n",
        "import xgboost as xgb\n",
        "from sklearn.model_selection import cross_val_score\n",
        "import pandas as pd\n",
        "import time"
      ],
      "metadata": {
        "id": "Bf2VoYXlkCG5"
      },
      "execution_count": 9,
      "outputs": []
    },
    {
      "cell_type": "markdown",
      "source": [
        "This step imports all necessary Python packages. Firstly, pyreadr is used to load .rds datasets from R, xgboost and sklearn provide the tools for training the XGBoost model, time and pandas are used for timing and recording results.\n",
        "\n"
      ],
      "metadata": {
        "id": "rcAwsHyLlTOl"
      }
    },
    {
      "cell_type": "code",
      "source": [
        "# Define Function to Run XGBoost with 5-Fold CV\n",
        "def run_xgb_scikit(data):\n",
        "    X = data.drop(\"outcome\", axis=1)\n",
        "    y = data[\"outcome\"].astype(int)\n",
        "    model = xgb.XGBClassifier(use_label_encoder=False, eval_metric='logloss')\n",
        "    start = time.time()\n",
        "    scores = cross_val_score(model, X, y, cv=5, scoring='accuracy')\n",
        "    end = time.time()\n",
        "    return scores.mean(), end - start"
      ],
      "metadata": {
        "id": "VMF7Dxw7kjHk"
      },
      "execution_count": 10,
      "outputs": []
    },
    {
      "cell_type": "markdown",
      "source": [
        "The run_xgb_scikit() function trains an XGBoost classifier.\n",
        "It separates predictors (X) and target (y), then uses cross_val_score() for 5-fold CV.\n",
        "The function returns mean accuracy and training time.\n",
        "This ensures consistent evaluation across all dataset sizes."
      ],
      "metadata": {
        "id": "ySDdMC8DlsUP"
      }
    },
    {
      "cell_type": "code",
      "source": [
        "# Loop Through Dataset Sizes i.e., load RDS Data and Evaluate\n",
        "dataset_sizes = [100, 1000, 10000, 100000, 1000000, 10000000]\n",
        "results = []\n",
        "\n",
        "for sz in dataset_sizes:\n",
        "    try:\n",
        "        path = f\"bootstrap_data_{sz}.rds\"\n",
        "        result = pyreadr.read_r(path)\n",
        "        df = result[None]\n",
        "        acc, duration = run_xgb_scikit(df)\n",
        "        results.append({\n",
        "            \"Method used\": \"XGBoost in Python via scikit-learn and 5-fold CV\",\n",
        "            \"Dataset size\": sz,\n",
        "            \"Testing-set predictive performance\": round(acc, 4),\n",
        "            \"Time taken for the model to be fit\": round(duration, 2)\n",
        "        })\n",
        "    except Exception as e:\n",
        "        results.append({\n",
        "            \"Method used\": \"XGBoost in Python via scikit-learn and 5-fold CV\",\n",
        "            \"Dataset size\": sz,\n",
        "            \"Testing-set predictive performance\": \"Error\",\n",
        "            \"Time taken for the model to be fit\": str(e)\n",
        "        })"
      ],
      "metadata": {
        "id": "7FyeoFvckl1M",
        "outputId": "9bbf9d2d-0b5a-4361-eabf-1223eb2ff4a6",
        "colab": {
          "base_uri": "https://localhost:8080/"
        }
      },
      "execution_count": 11,
      "outputs": [
        {
          "output_type": "stream",
          "name": "stderr",
          "text": [
            "/usr/local/lib/python3.11/dist-packages/xgboost/core.py:158: UserWarning: [23:49:26] WARNING: /workspace/src/learner.cc:740: \n",
            "Parameters: { \"use_label_encoder\" } are not used.\n",
            "\n",
            "  warnings.warn(smsg, UserWarning)\n",
            "/usr/local/lib/python3.11/dist-packages/xgboost/core.py:158: UserWarning: [23:49:27] WARNING: /workspace/src/learner.cc:740: \n",
            "Parameters: { \"use_label_encoder\" } are not used.\n",
            "\n",
            "  warnings.warn(smsg, UserWarning)\n",
            "/usr/local/lib/python3.11/dist-packages/xgboost/core.py:158: UserWarning: [23:49:27] WARNING: /workspace/src/learner.cc:740: \n",
            "Parameters: { \"use_label_encoder\" } are not used.\n",
            "\n",
            "  warnings.warn(smsg, UserWarning)\n",
            "/usr/local/lib/python3.11/dist-packages/xgboost/core.py:158: UserWarning: [23:49:27] WARNING: /workspace/src/learner.cc:740: \n",
            "Parameters: { \"use_label_encoder\" } are not used.\n",
            "\n",
            "  warnings.warn(smsg, UserWarning)\n",
            "/usr/local/lib/python3.11/dist-packages/xgboost/core.py:158: UserWarning: [23:49:27] WARNING: /workspace/src/learner.cc:740: \n",
            "Parameters: { \"use_label_encoder\" } are not used.\n",
            "\n",
            "  warnings.warn(smsg, UserWarning)\n",
            "/usr/local/lib/python3.11/dist-packages/xgboost/core.py:158: UserWarning: [23:49:27] WARNING: /workspace/src/learner.cc:740: \n",
            "Parameters: { \"use_label_encoder\" } are not used.\n",
            "\n",
            "  warnings.warn(smsg, UserWarning)\n",
            "/usr/local/lib/python3.11/dist-packages/xgboost/core.py:158: UserWarning: [23:49:28] WARNING: /workspace/src/learner.cc:740: \n",
            "Parameters: { \"use_label_encoder\" } are not used.\n",
            "\n",
            "  warnings.warn(smsg, UserWarning)\n",
            "/usr/local/lib/python3.11/dist-packages/xgboost/core.py:158: UserWarning: [23:49:28] WARNING: /workspace/src/learner.cc:740: \n",
            "Parameters: { \"use_label_encoder\" } are not used.\n",
            "\n",
            "  warnings.warn(smsg, UserWarning)\n",
            "/usr/local/lib/python3.11/dist-packages/xgboost/core.py:158: UserWarning: [23:49:28] WARNING: /workspace/src/learner.cc:740: \n",
            "Parameters: { \"use_label_encoder\" } are not used.\n",
            "\n",
            "  warnings.warn(smsg, UserWarning)\n",
            "/usr/local/lib/python3.11/dist-packages/xgboost/core.py:158: UserWarning: [23:49:28] WARNING: /workspace/src/learner.cc:740: \n",
            "Parameters: { \"use_label_encoder\" } are not used.\n",
            "\n",
            "  warnings.warn(smsg, UserWarning)\n",
            "/usr/local/lib/python3.11/dist-packages/xgboost/core.py:158: UserWarning: [23:49:28] WARNING: /workspace/src/learner.cc:740: \n",
            "Parameters: { \"use_label_encoder\" } are not used.\n",
            "\n",
            "  warnings.warn(smsg, UserWarning)\n",
            "/usr/local/lib/python3.11/dist-packages/xgboost/core.py:158: UserWarning: [23:49:28] WARNING: /workspace/src/learner.cc:740: \n",
            "Parameters: { \"use_label_encoder\" } are not used.\n",
            "\n",
            "  warnings.warn(smsg, UserWarning)\n",
            "/usr/local/lib/python3.11/dist-packages/xgboost/core.py:158: UserWarning: [23:49:29] WARNING: /workspace/src/learner.cc:740: \n",
            "Parameters: { \"use_label_encoder\" } are not used.\n",
            "\n",
            "  warnings.warn(smsg, UserWarning)\n",
            "/usr/local/lib/python3.11/dist-packages/xgboost/core.py:158: UserWarning: [23:49:29] WARNING: /workspace/src/learner.cc:740: \n",
            "Parameters: { \"use_label_encoder\" } are not used.\n",
            "\n",
            "  warnings.warn(smsg, UserWarning)\n",
            "/usr/local/lib/python3.11/dist-packages/xgboost/core.py:158: UserWarning: [23:49:29] WARNING: /workspace/src/learner.cc:740: \n",
            "Parameters: { \"use_label_encoder\" } are not used.\n",
            "\n",
            "  warnings.warn(smsg, UserWarning)\n",
            "/usr/local/lib/python3.11/dist-packages/xgboost/core.py:158: UserWarning: [23:49:29] WARNING: /workspace/src/learner.cc:740: \n",
            "Parameters: { \"use_label_encoder\" } are not used.\n",
            "\n",
            "  warnings.warn(smsg, UserWarning)\n",
            "/usr/local/lib/python3.11/dist-packages/xgboost/core.py:158: UserWarning: [23:49:30] WARNING: /workspace/src/learner.cc:740: \n",
            "Parameters: { \"use_label_encoder\" } are not used.\n",
            "\n",
            "  warnings.warn(smsg, UserWarning)\n",
            "/usr/local/lib/python3.11/dist-packages/xgboost/core.py:158: UserWarning: [23:49:31] WARNING: /workspace/src/learner.cc:740: \n",
            "Parameters: { \"use_label_encoder\" } are not used.\n",
            "\n",
            "  warnings.warn(smsg, UserWarning)\n",
            "/usr/local/lib/python3.11/dist-packages/xgboost/core.py:158: UserWarning: [23:49:32] WARNING: /workspace/src/learner.cc:740: \n",
            "Parameters: { \"use_label_encoder\" } are not used.\n",
            "\n",
            "  warnings.warn(smsg, UserWarning)\n",
            "/usr/local/lib/python3.11/dist-packages/xgboost/core.py:158: UserWarning: [23:49:32] WARNING: /workspace/src/learner.cc:740: \n",
            "Parameters: { \"use_label_encoder\" } are not used.\n",
            "\n",
            "  warnings.warn(smsg, UserWarning)\n",
            "/usr/local/lib/python3.11/dist-packages/xgboost/core.py:158: UserWarning: [23:49:36] WARNING: /workspace/src/learner.cc:740: \n",
            "Parameters: { \"use_label_encoder\" } are not used.\n",
            "\n",
            "  warnings.warn(smsg, UserWarning)\n",
            "/usr/local/lib/python3.11/dist-packages/xgboost/core.py:158: UserWarning: [23:49:50] WARNING: /workspace/src/learner.cc:740: \n",
            "Parameters: { \"use_label_encoder\" } are not used.\n",
            "\n",
            "  warnings.warn(smsg, UserWarning)\n",
            "/usr/local/lib/python3.11/dist-packages/xgboost/core.py:158: UserWarning: [23:49:59] WARNING: /workspace/src/learner.cc:740: \n",
            "Parameters: { \"use_label_encoder\" } are not used.\n",
            "\n",
            "  warnings.warn(smsg, UserWarning)\n",
            "/usr/local/lib/python3.11/dist-packages/xgboost/core.py:158: UserWarning: [23:50:07] WARNING: /workspace/src/learner.cc:740: \n",
            "Parameters: { \"use_label_encoder\" } are not used.\n",
            "\n",
            "  warnings.warn(smsg, UserWarning)\n",
            "/usr/local/lib/python3.11/dist-packages/xgboost/core.py:158: UserWarning: [23:50:13] WARNING: /workspace/src/learner.cc:740: \n",
            "Parameters: { \"use_label_encoder\" } are not used.\n",
            "\n",
            "  warnings.warn(smsg, UserWarning)\n",
            "/usr/local/lib/python3.11/dist-packages/xgboost/core.py:158: UserWarning: [23:50:49] WARNING: /workspace/src/learner.cc:740: \n",
            "Parameters: { \"use_label_encoder\" } are not used.\n",
            "\n",
            "  warnings.warn(smsg, UserWarning)\n",
            "/usr/local/lib/python3.11/dist-packages/xgboost/core.py:158: UserWarning: [23:52:11] WARNING: /workspace/src/learner.cc:740: \n",
            "Parameters: { \"use_label_encoder\" } are not used.\n",
            "\n",
            "  warnings.warn(smsg, UserWarning)\n",
            "/usr/local/lib/python3.11/dist-packages/xgboost/core.py:158: UserWarning: [23:53:34] WARNING: /workspace/src/learner.cc:740: \n",
            "Parameters: { \"use_label_encoder\" } are not used.\n",
            "\n",
            "  warnings.warn(smsg, UserWarning)\n",
            "/usr/local/lib/python3.11/dist-packages/xgboost/core.py:158: UserWarning: [23:54:57] WARNING: /workspace/src/learner.cc:740: \n",
            "Parameters: { \"use_label_encoder\" } are not used.\n",
            "\n",
            "  warnings.warn(smsg, UserWarning)\n",
            "/usr/local/lib/python3.11/dist-packages/xgboost/core.py:158: UserWarning: [23:56:18] WARNING: /workspace/src/learner.cc:740: \n",
            "Parameters: { \"use_label_encoder\" } are not used.\n",
            "\n",
            "  warnings.warn(smsg, UserWarning)\n"
          ]
        }
      ]
    },
    {
      "cell_type": "markdown",
      "source": [
        "The code loops through all defined dataset sizes from 100 to 10 million.\n",
        "Each .rds file is read using pyreadr, and the model is trained using the function.\n",
        "Accuracy and time taken are collected in a structured dictionary.\n",
        "If there's an error, it's caught and recorded for that size."
      ],
      "metadata": {
        "id": "xIuiyYBtl_VE"
      }
    },
    {
      "cell_type": "code",
      "source": [
        "#Output the Results as a DataFrame\n",
        "results_df = pd.DataFrame(results)\n",
        "print(results_df)"
      ],
      "metadata": {
        "id": "HYKokSswkpVq",
        "outputId": "e9d86f51-2858-43e6-af45-0eef9365f341",
        "colab": {
          "base_uri": "https://localhost:8080/"
        }
      },
      "execution_count": 12,
      "outputs": [
        {
          "output_type": "stream",
          "name": "stdout",
          "text": [
            "                                        Method used  Dataset size  \\\n",
            "0  XGBoost in Python via scikit-learn and 5-fold CV           100   \n",
            "1  XGBoost in Python via scikit-learn and 5-fold CV          1000   \n",
            "2  XGBoost in Python via scikit-learn and 5-fold CV         10000   \n",
            "3  XGBoost in Python via scikit-learn and 5-fold CV        100000   \n",
            "4  XGBoost in Python via scikit-learn and 5-fold CV       1000000   \n",
            "5  XGBoost in Python via scikit-learn and 5-fold CV      10000000   \n",
            "\n",
            "   Testing-set predictive performance  Time taken for the model to be fit  \n",
            "0                              0.9200                                0.97  \n",
            "1                              0.9500                                0.86  \n",
            "2                              0.9777                                0.76  \n",
            "3                              0.9872                                3.87  \n",
            "4                              0.9919                               46.43  \n",
            "5                              0.9932                              412.06  \n"
          ]
        }
      ]
    },
    {
      "cell_type": "markdown",
      "source": [
        "The results from the Python-based XGBoost implementation using scikit-learn and 5-fold cross-validation demonstrate strong and consistent predictive performance across all dataset sizes. For smaller datasets (100 to 10,000 rows), the model achieved high accuracy ranging from 92% to nearly 98%, with fitting times under one second. As the dataset size increased to 100,000 and 1 million rows, accuracy slightly improved to around 99%, but training time also increased significantly to 3.87 and 46.43 seconds respectively. For the largest dataset with 10 million records, the model maintained high predictive accuracy (99.32%) but required over 6 minutes to complete. These results highlight the scalability of the Python XGBoost model in terms of accuracy, though computation time becomes a critical factor at very large scales.\n",
        "\n",
        "\n",
        "\n",
        "\n",
        "\n",
        "\n",
        "\n",
        "\n"
      ],
      "metadata": {
        "id": "QqVmEoXOmSan"
      }
    },
    {
      "cell_type": "code",
      "source": [],
      "metadata": {
        "id": "ruedfM1Yo8tU"
      },
      "execution_count": null,
      "outputs": []
    }
  ],
  "metadata": {
    "colab": {
      "name": "Welcome To Colab",
      "provenance": []
    },
    "kernelspec": {
      "display_name": "Python 3",
      "name": "python3"
    }
  },
  "nbformat": 4,
  "nbformat_minor": 0
}