{
 "cells": [
  {
   "cell_type": "code",
   "execution_count": 0,
   "metadata": {
    "application/vnd.databricks.v1+cell": {
     "cellMetadata": {
      "byteLimit": 2048000,
      "rowLimit": 10000
     },
     "inputWidgets": {},
     "nuid": "b40bc923-ba9a-4f02-91d2-3a920d22e1cd",
     "showTitle": false,
     "tableResultSettingsMap": {},
     "title": ""
    }
   },
   "outputs": [
    {
     "output_type": "display_data",
     "data": {
      "text/html": [
       "<style scoped>\n",
       "  .table-result-container {\n",
       "    max-height: 300px;\n",
       "    overflow: auto;\n",
       "  }\n",
       "  table, th, td {\n",
       "    border: 1px solid black;\n",
       "    border-collapse: collapse;\n",
       "  }\n",
       "  th, td {\n",
       "    padding: 5px;\n",
       "  }\n",
       "  th {\n",
       "    text-align: left;\n",
       "  }\n",
       "</style><div class='table-result-container'><table class='table-result'><thead style='background-color: white'><tr><th>path</th><th>name</th><th>size</th><th>modificationTime</th></tr></thead><tbody><tr><td>dbfs:/FileStore/tables/OP_CVRD_RCPNT_PRFL_SPLMTL_P01302025_01212025-1.csv</td><td>OP_CVRD_RCPNT_PRFL_SPLMTL_P01302025_01212025-1.csv</td><td>357419225</td><td>1742753006000</td></tr><tr><td>dbfs:/FileStore/tables/OP_CVRD_RCPNT_PRFL_SPLMTL_P01302025_01212025-2.csv</td><td>OP_CVRD_RCPNT_PRFL_SPLMTL_P01302025_01212025-2.csv</td><td>357419225</td><td>1742753143000</td></tr><tr><td>dbfs:/FileStore/tables/OP_CVRD_RCPNT_PRFL_SPLMTL_P01302025_01212025.csv</td><td>OP_CVRD_RCPNT_PRFL_SPLMTL_P01302025_01212025.csv</td><td>357419225</td><td>1742354821000</td></tr><tr><td>dbfs:/FileStore/tables/OP_CVRD_RCPNT_PRFL_SPLMTL_README_P01302025-1.txt</td><td>OP_CVRD_RCPNT_PRFL_SPLMTL_README_P01302025-1.txt</td><td>3674</td><td>1742752969000</td></tr><tr><td>dbfs:/FileStore/tables/OP_CVRD_RCPNT_PRFL_SPLMTL_README_P01302025-2.txt</td><td>OP_CVRD_RCPNT_PRFL_SPLMTL_README_P01302025-2.txt</td><td>3674</td><td>1742753146000</td></tr><tr><td>dbfs:/FileStore/tables/OP_CVRD_RCPNT_PRFL_SPLMTL_README_P01302025.txt</td><td>OP_CVRD_RCPNT_PRFL_SPLMTL_README_P01302025.txt</td><td>3674</td><td>1742354799000</td></tr><tr><td>dbfs:/FileStore/tables/OP_DTL_OWNRSHP_PGYR2023_P01302025_01212025-1.csv</td><td>OP_DTL_OWNRSHP_PGYR2023_P01302025_01212025-1.csv</td><td>1827342</td><td>1742753009000</td></tr><tr><td>dbfs:/FileStore/tables/OP_DTL_OWNRSHP_PGYR2023_P01302025_01212025-2.csv</td><td>OP_DTL_OWNRSHP_PGYR2023_P01302025_01212025-2.csv</td><td>1827342</td><td>1742753036000</td></tr><tr><td>dbfs:/FileStore/tables/OP_DTL_OWNRSHP_PGYR2023_P01302025_01212025.csv</td><td>OP_DTL_OWNRSHP_PGYR2023_P01302025_01212025.csv</td><td>1827342</td><td>1742354824000</td></tr><tr><td>dbfs:/FileStore/tables/OP_DTL_RSRCH_PGYR2023_P01302025_01212025-1.csv</td><td>OP_DTL_RSRCH_PGYR2023_P01302025_01212025-1.csv</td><td>992593986</td><td>1742753177000</td></tr><tr><td>dbfs:/FileStore/tables/OP_DTL_RSRCH_PGYR2023_P01302025_01212025.csv</td><td>OP_DTL_RSRCH_PGYR2023_P01302025_01212025.csv</td><td>992593986</td><td>1742354880000</td></tr><tr><td>dbfs:/FileStore/tables/OP_PGYR2023_README_P01302025-1.txt</td><td>OP_PGYR2023_README_P01302025-1.txt</td><td>5422</td><td>1742753009000</td></tr><tr><td>dbfs:/FileStore/tables/OP_PGYR2023_README_P01302025-2.txt</td><td>OP_PGYR2023_README_P01302025-2.txt</td><td>5422</td><td>1742753043000</td></tr><tr><td>dbfs:/FileStore/tables/OP_PGYR2023_README_P01302025.txt</td><td>OP_PGYR2023_README_P01302025.txt</td><td>5422</td><td>1742354824000</td></tr><tr><td>dbfs:/FileStore/tables/OP_REMOVED_DELETED_PGYR2023_P01302025_01212025-1.csv</td><td>OP_REMOVED_DELETED_PGYR2023_P01302025_01212025-1.csv</td><td>158460</td><td>1742752998000</td></tr><tr><td>dbfs:/FileStore/tables/OP_REMOVED_DELETED_PGYR2023_P01302025_01212025-2.csv</td><td>OP_REMOVED_DELETED_PGYR2023_P01302025_01212025-2.csv</td><td>158460</td><td>1742753035000</td></tr><tr><td>dbfs:/FileStore/tables/OP_REMOVED_DELETED_PGYR2023_P01302025_01212025.csv</td><td>OP_REMOVED_DELETED_PGYR2023_P01302025_01212025.csv</td><td>158460</td><td>1742354817000</td></tr><tr><td>dbfs:/FileStore/tables/PGYR2023_P01302025_01212025-1.zip</td><td>PGYR2023_P01302025_01212025-1.zip</td><td>789005271</td><td>1742353913000</td></tr><tr><td>dbfs:/FileStore/tables/PGYR2023_P01302025_01212025-2.zip</td><td>PGYR2023_P01302025_01212025-2.zip</td><td>789005271</td><td>1742753434000</td></tr><tr><td>dbfs:/FileStore/tables/PGYR2023_P01302025_01212025-3.zip</td><td>PGYR2023_P01302025_01212025-3.zip</td><td>789005271</td><td>1742753674000</td></tr><tr><td>dbfs:/FileStore/tables/PGYR2023_P01302025_01212025.zip</td><td>PGYR2023_P01302025_01212025.zip</td><td>789005271</td><td>1742353795000</td></tr><tr><td>dbfs:/FileStore/tables/PHPRFL_P01302025_01212025-1.zip</td><td>PHPRFL_P01302025_01212025-1.zip</td><td>82966770</td><td>1742353860000</td></tr><tr><td>dbfs:/FileStore/tables/PHPRFL_P01302025_01212025-2.zip</td><td>PHPRFL_P01302025_01212025-2.zip</td><td>82966770</td><td>1742753387000</td></tr><tr><td>dbfs:/FileStore/tables/PHPRFL_P01302025_01212025-3.zip</td><td>PHPRFL_P01302025_01212025-3.zip</td><td>82966770</td><td>1742753629000</td></tr><tr><td>dbfs:/FileStore/tables/PHPRFL_P01302025_01212025.zip</td><td>PHPRFL_P01302025_01212025.zip</td><td>82966770</td><td>1742353742000</td></tr></tbody></table></div>"
      ]
     },
     "metadata": {
      "application/vnd.databricks.v1+output": {
       "addedWidgets": {},
       "aggData": [],
       "aggError": "",
       "aggOverflow": false,
       "aggSchema": [],
       "aggSeriesLimitReached": false,
       "aggType": "",
       "arguments": {},
       "columnCustomDisplayInfos": {},
       "data": [
        [
         "dbfs:/FileStore/tables/OP_CVRD_RCPNT_PRFL_SPLMTL_P01302025_01212025-1.csv",
         "OP_CVRD_RCPNT_PRFL_SPLMTL_P01302025_01212025-1.csv",
         357419225,
         1742753006000
        ],
        [
         "dbfs:/FileStore/tables/OP_CVRD_RCPNT_PRFL_SPLMTL_P01302025_01212025-2.csv",
         "OP_CVRD_RCPNT_PRFL_SPLMTL_P01302025_01212025-2.csv",
         357419225,
         1742753143000
        ],
        [
         "dbfs:/FileStore/tables/OP_CVRD_RCPNT_PRFL_SPLMTL_P01302025_01212025.csv",
         "OP_CVRD_RCPNT_PRFL_SPLMTL_P01302025_01212025.csv",
         357419225,
         1742354821000
        ],
        [
         "dbfs:/FileStore/tables/OP_CVRD_RCPNT_PRFL_SPLMTL_README_P01302025-1.txt",
         "OP_CVRD_RCPNT_PRFL_SPLMTL_README_P01302025-1.txt",
         3674,
         1742752969000
        ],
        [
         "dbfs:/FileStore/tables/OP_CVRD_RCPNT_PRFL_SPLMTL_README_P01302025-2.txt",
         "OP_CVRD_RCPNT_PRFL_SPLMTL_README_P01302025-2.txt",
         3674,
         1742753146000
        ],
        [
         "dbfs:/FileStore/tables/OP_CVRD_RCPNT_PRFL_SPLMTL_README_P01302025.txt",
         "OP_CVRD_RCPNT_PRFL_SPLMTL_README_P01302025.txt",
         3674,
         1742354799000
        ],
        [
         "dbfs:/FileStore/tables/OP_DTL_OWNRSHP_PGYR2023_P01302025_01212025-1.csv",
         "OP_DTL_OWNRSHP_PGYR2023_P01302025_01212025-1.csv",
         1827342,
         1742753009000
        ],
        [
         "dbfs:/FileStore/tables/OP_DTL_OWNRSHP_PGYR2023_P01302025_01212025-2.csv",
         "OP_DTL_OWNRSHP_PGYR2023_P01302025_01212025-2.csv",
         1827342,
         1742753036000
        ],
        [
         "dbfs:/FileStore/tables/OP_DTL_OWNRSHP_PGYR2023_P01302025_01212025.csv",
         "OP_DTL_OWNRSHP_PGYR2023_P01302025_01212025.csv",
         1827342,
         1742354824000
        ],
        [
         "dbfs:/FileStore/tables/OP_DTL_RSRCH_PGYR2023_P01302025_01212025-1.csv",
         "OP_DTL_RSRCH_PGYR2023_P01302025_01212025-1.csv",
         992593986,
         1742753177000
        ],
        [
         "dbfs:/FileStore/tables/OP_DTL_RSRCH_PGYR2023_P01302025_01212025.csv",
         "OP_DTL_RSRCH_PGYR2023_P01302025_01212025.csv",
         992593986,
         1742354880000
        ],
        [
         "dbfs:/FileStore/tables/OP_PGYR2023_README_P01302025-1.txt",
         "OP_PGYR2023_README_P01302025-1.txt",
         5422,
         1742753009000
        ],
        [
         "dbfs:/FileStore/tables/OP_PGYR2023_README_P01302025-2.txt",
         "OP_PGYR2023_README_P01302025-2.txt",
         5422,
         1742753043000
        ],
        [
         "dbfs:/FileStore/tables/OP_PGYR2023_README_P01302025.txt",
         "OP_PGYR2023_README_P01302025.txt",
         5422,
         1742354824000
        ],
        [
         "dbfs:/FileStore/tables/OP_REMOVED_DELETED_PGYR2023_P01302025_01212025-1.csv",
         "OP_REMOVED_DELETED_PGYR2023_P01302025_01212025-1.csv",
         158460,
         1742752998000
        ],
        [
         "dbfs:/FileStore/tables/OP_REMOVED_DELETED_PGYR2023_P01302025_01212025-2.csv",
         "OP_REMOVED_DELETED_PGYR2023_P01302025_01212025-2.csv",
         158460,
         1742753035000
        ],
        [
         "dbfs:/FileStore/tables/OP_REMOVED_DELETED_PGYR2023_P01302025_01212025.csv",
         "OP_REMOVED_DELETED_PGYR2023_P01302025_01212025.csv",
         158460,
         1742354817000
        ],
        [
         "dbfs:/FileStore/tables/PGYR2023_P01302025_01212025-1.zip",
         "PGYR2023_P01302025_01212025-1.zip",
         789005271,
         1742353913000
        ],
        [
         "dbfs:/FileStore/tables/PGYR2023_P01302025_01212025-2.zip",
         "PGYR2023_P01302025_01212025-2.zip",
         789005271,
         1742753434000
        ],
        [
         "dbfs:/FileStore/tables/PGYR2023_P01302025_01212025-3.zip",
         "PGYR2023_P01302025_01212025-3.zip",
         789005271,
         1742753674000
        ],
        [
         "dbfs:/FileStore/tables/PGYR2023_P01302025_01212025.zip",
         "PGYR2023_P01302025_01212025.zip",
         789005271,
         1742353795000
        ],
        [
         "dbfs:/FileStore/tables/PHPRFL_P01302025_01212025-1.zip",
         "PHPRFL_P01302025_01212025-1.zip",
         82966770,
         1742353860000
        ],
        [
         "dbfs:/FileStore/tables/PHPRFL_P01302025_01212025-2.zip",
         "PHPRFL_P01302025_01212025-2.zip",
         82966770,
         1742753387000
        ],
        [
         "dbfs:/FileStore/tables/PHPRFL_P01302025_01212025-3.zip",
         "PHPRFL_P01302025_01212025-3.zip",
         82966770,
         1742753629000
        ],
        [
         "dbfs:/FileStore/tables/PHPRFL_P01302025_01212025.zip",
         "PHPRFL_P01302025_01212025.zip",
         82966770,
         1742353742000
        ]
       ],
       "datasetInfos": [],
       "dbfsResultPath": null,
       "isJsonSchema": true,
       "metadata": {},
       "overflow": false,
       "plotOptions": {
        "customPlotOptions": {},
        "displayType": "table",
        "pivotAggregation": null,
        "pivotColumns": null,
        "xColumns": null,
        "yColumns": null
       },
       "removedWidgets": [],
       "schema": [
        {
         "metadata": "{}",
         "name": "path",
         "type": "\"string\""
        },
        {
         "metadata": "{}",
         "name": "name",
         "type": "\"string\""
        },
        {
         "metadata": "{}",
         "name": "size",
         "type": "\"long\""
        },
        {
         "metadata": "{}",
         "name": "modificationTime",
         "type": "\"long\""
        }
       ],
       "type": "table"
      }
     },
     "output_type": "display_data"
    }
   ],
   "source": [
    "#List Uploaded Files with dbutils\n",
    "display(dbutils.fs.ls(\"FileStore/tables/\"))"
   ]
  },
  {
   "cell_type": "code",
   "execution_count": 0,
   "metadata": {
    "application/vnd.databricks.v1+cell": {
     "cellMetadata": {
      "byteLimit": 2048000,
      "rowLimit": 10000
     },
     "inputWidgets": {},
     "nuid": "85258082-5425-4b46-b162-06fad1284b84",
     "showTitle": false,
     "tableResultSettingsMap": {},
     "title": ""
    }
   },
   "outputs": [
    {
     "output_type": "stream",
     "name": "stdout",
     "output_type": "stream",
     "text": [
      "Out[22]: True"
     ]
    }
   ],
   "source": [
    "# Copy the uploaded ZIP files from FileStore to /tmp/\n",
    "dbutils.fs.cp(\"dbfs:/FileStore/tables/PGYR2023_P01302025_01212025-3.zip\", \"file:/tmp/general.zip\")\n",
    "dbutils.fs.cp(\"dbfs:/FileStore/tables/PHPRFL_P01302025_01212025-3.zip\", \"file:/tmp/recipient.zip\")"
   ]
  },
  {
   "cell_type": "code",
   "execution_count": 0,
   "metadata": {
    "application/vnd.databricks.v1+cell": {
     "cellMetadata": {
      "byteLimit": 2048000,
      "rowLimit": 10000
     },
     "inputWidgets": {},
     "nuid": "e6f742a4-394a-4c2f-83e2-added2c63bd7",
     "showTitle": false,
     "tableResultSettingsMap": {},
     "title": ""
    }
   },
   "outputs": [],
   "source": [
    "#Extract the ZIP files from /tmp/\n",
    "import zipfile\n",
    "\n",
    "# Extract general payments data\n",
    "with zipfile.ZipFile(\"/tmp/general.zip\", 'r') as zip_ref:\n",
    "    zip_ref.extractall(\"/tmp/openpayments_general\")\n",
    "\n",
    "# Extract recipient profiles data\n",
    "with zipfile.ZipFile(\"/tmp/recipient.zip\", 'r') as zip_ref:\n",
    "    zip_ref.extractall(\"/tmp/openpayments_recipient\")"
   ]
  },
  {
   "cell_type": "code",
   "execution_count": 0,
   "metadata": {
    "application/vnd.databricks.v1+cell": {
     "cellMetadata": {
      "byteLimit": 2048000,
      "rowLimit": 10000
     },
     "inputWidgets": {},
     "nuid": "6559f646-8a1f-4e8c-8edd-cc9e32d8d356",
     "showTitle": false,
     "tableResultSettingsMap": {},
     "title": ""
    }
   },
   "outputs": [
    {
     "output_type": "stream",
     "name": "stdout",
     "output_type": "stream",
     "text": [
      "General Payment Files:\n['OP_DTL_OWNRSHP_PGYR2023_P01302025_01212025.csv', 'OP_DTL_RSRCH_PGYR2023_P01302025_01212025.csv', 'OP_REMOVED_DELETED_PGYR2023_P01302025_01212025.csv', 'OP_PGYR2023_README_P01302025.txt', 'OP_DTL_GNRL_PGYR2023_P01302025_01212025.csv']\nRecipient Files:\n['OP_CVRD_RCPNT_PRFL_SPLMTL_README_P01302025.txt', 'OP_CVRD_RCPNT_PRFL_SPLMTL_P01302025_01212025.csv']\n"
     ]
    }
   ],
   "source": [
    "#Confirm the CSV files were extracted\n",
    "import os\n",
    "\n",
    "print(\"General Payment Files:\")\n",
    "print(os.listdir(\"/tmp/openpayments_general\"))\n",
    "\n",
    "print(\"Recipient Files:\")\n",
    "print(os.listdir(\"/tmp/openpayments_recipient\"))\n"
   ]
  },
  {
   "cell_type": "code",
   "execution_count": 0,
   "metadata": {
    "application/vnd.databricks.v1+cell": {
     "cellMetadata": {
      "byteLimit": 2048000,
      "rowLimit": 10000
     },
     "inputWidgets": {},
     "nuid": "4e51504a-7e05-4952-a5b7-4cb279f7e82e",
     "showTitle": false,
     "tableResultSettingsMap": {},
     "title": ""
    }
   },
   "outputs": [
    {
     "output_type": "stream",
     "name": "stdout",
     "output_type": "stream",
     "text": [
      "Out[7]: '/dbfs/FileStore/tables/recipient.csv'"
     ]
    }
   ],
   "source": [
    "import shutil\n",
    "import os\n",
    "\n",
    "# Make sure destination exists\n",
    "os.makedirs(\"/dbfs/FileStore/tables/\", exist_ok=True)\n",
    "\n",
    "# Copy general file to FileStore\n",
    "shutil.copy(\"/tmp/openpayments_general/OP_DTL_GNRL_PGYR2023_P01302025_01212025.csv\", \"/dbfs/FileStore/tables/general.csv\")\n",
    "\n",
    "# Copy recipient file\n",
    "shutil.copy(\"/tmp/openpayments_recipient/OP_CVRD_RCPNT_PRFL_SPLMTL_P01302025_01212025.csv\", \"/dbfs/FileStore/tables/recipient.csv\")\n"
   ]
  },
  {
   "cell_type": "code",
   "execution_count": 0,
   "metadata": {
    "application/vnd.databricks.v1+cell": {
     "cellMetadata": {
      "byteLimit": 2048000,
      "rowLimit": 10000
     },
     "inputWidgets": {},
     "nuid": "25029d93-5a9f-480c-9940-81edd3aa6613",
     "showTitle": false,
     "tableResultSettingsMap": {},
     "title": ""
    }
   },
   "outputs": [
    {
     "output_type": "stream",
     "name": "stdout",
     "output_type": "stream",
     "text": [
      "✅ Files in /dbfs/FileStore/tables/:\n['recipient.csv', 'general.csv']\n"
     ]
    }
   ],
   "source": [
    "#dbfs file list\n",
    "import os\n",
    "\n",
    "print(\"✅ Files in /dbfs/FileStore/tables/:\")\n",
    "print(os.listdir(\"/dbfs/FileStore/tables/\"))\n"
   ]
  },
  {
   "cell_type": "code",
   "execution_count": 0,
   "metadata": {
    "application/vnd.databricks.v1+cell": {
     "cellMetadata": {
      "byteLimit": 2048000,
      "rowLimit": 10000
     },
     "inputWidgets": {},
     "nuid": "068a35b5-aa86-4ac9-872a-f1a42e56a341",
     "showTitle": false,
     "tableResultSettingsMap": {},
     "title": ""
    }
   },
   "outputs": [
    {
     "output_type": "stream",
     "name": "stdout",
     "output_type": "stream",
     "text": [
      "✅ General Payments Preview:\n+-----------+----------------------+---------------------+--------------------+----------------------+----------------------------+---------------------+----------------------------+-----------------------------+---------------------------+-----------------------------+-----------------------------------------------+-----------------------------------------------+---------------+---------------+------------------+-----------------+------------------+---------------------+--------------------------------+--------------------------------+--------------------------------+--------------------------------+--------------------------------+--------------------------------+-----------------------------+-----------------------------+-----------------------------+-----------------------------+-----------------------------+-----------------------------+-------------------------------------+-------------------------------------+-------------------------------------+-------------------------------------+-------------------------------------+---------------------------------------------------------+-----------------------------------------------------------+-------------------------------------------------------------+--------------------------------------------------------------+----------------------------------------------------------------+---------------------------------+---------------+-------------------------------------------+------------------------------------+--------------------------------------+--------------+---------------+-----------------+-----------------------------+---------------------------------------+-----------------------------------------------------------------+-----------------+----------------------------------------------+----------------------+------------------------------+----------+------------------------------+-------------------------+---------------------------------+---------------------------------------------------------+--------------------------------------+--------------------------------------------------------+-----------------------------------+-----------------------------------------+---------------------------------+---------------------------------------------------------+--------------------------------------+--------------------------------------------------------+-----------------------------------+-----------------------------------------+---------------------------------+---------------------------------------------------------+--------------------------------------+--------------------------------------------------------+-----------------------------------+-----------------------------------------+---------------------------------+---------------------------------------------------------+--------------------------------------+--------------------------------------------------------+-----------------------------------+-----------------------------------------+---------------------------------+---------------------------------------------------------+--------------------------------------+--------------------------------------------------------+-----------------------------------+-----------------------------------------+------------+------------------------+\n|Change_Type|Covered_Recipient_Type|Teaching_Hospital_CCN|Teaching_Hospital_ID|Teaching_Hospital_Name|Covered_Recipient_Profile_ID|Covered_Recipient_NPI|Covered_Recipient_First_Name|Covered_Recipient_Middle_Name|Covered_Recipient_Last_Name|Covered_Recipient_Name_Suffix|Recipient_Primary_Business_Street_Address_Line1|Recipient_Primary_Business_Street_Address_Line2| Recipient_City|Recipient_State|Recipient_Zip_Code|Recipient_Country|Recipient_Province|Recipient_Postal_Code|Covered_Recipient_Primary_Type_1|Covered_Recipient_Primary_Type_2|Covered_Recipient_Primary_Type_3|Covered_Recipient_Primary_Type_4|Covered_Recipient_Primary_Type_5|Covered_Recipient_Primary_Type_6|Covered_Recipient_Specialty_1|Covered_Recipient_Specialty_2|Covered_Recipient_Specialty_3|Covered_Recipient_Specialty_4|Covered_Recipient_Specialty_5|Covered_Recipient_Specialty_6|Covered_Recipient_License_State_code1|Covered_Recipient_License_State_code2|Covered_Recipient_License_State_code3|Covered_Recipient_License_State_code4|Covered_Recipient_License_State_code5|Submitting_Applicable_Manufacturer_or_Applicable_GPO_Name|Applicable_Manufacturer_or_Applicable_GPO_Making_Payment_ID|Applicable_Manufacturer_or_Applicable_GPO_Making_Payment_Name|Applicable_Manufacturer_or_Applicable_GPO_Making_Payment_State|Applicable_Manufacturer_or_Applicable_GPO_Making_Payment_Country|Total_Amount_of_Payment_USDollars|Date_of_Payment|Number_of_Payments_Included_in_Total_Amount|Form_of_Payment_or_Transfer_of_Value|Nature_of_Payment_or_Transfer_of_Value|City_of_Travel|State_of_Travel|Country_of_Travel|Physician_Ownership_Indicator|Third_Party_Payment_Recipient_Indicator|Name_of_Third_Party_Entity_Receiving_Payment_or_Transfer_of_Value|Charity_Indicator|Third_Party_Equals_Covered_Recipient_Indicator|Contextual_Information|Delay_in_Publication_Indicator| Record_ID|Dispute_Status_for_Publication|Related_Product_Indicator|Covered_or_Noncovered_Indicator_1|Indicate_Drug_or_Biological_or_Device_or_Medical_Supply_1|Product_Category_or_Therapeutic_Area_1|Name_of_Drug_or_Biological_or_Device_or_Medical_Supply_1|Associated_Drug_or_Biological_NDC_1|Associated_Device_or_Medical_Supply_PDI_1|Covered_or_Noncovered_Indicator_2|Indicate_Drug_or_Biological_or_Device_or_Medical_Supply_2|Product_Category_or_Therapeutic_Area_2|Name_of_Drug_or_Biological_or_Device_or_Medical_Supply_2|Associated_Drug_or_Biological_NDC_2|Associated_Device_or_Medical_Supply_PDI_2|Covered_or_Noncovered_Indicator_3|Indicate_Drug_or_Biological_or_Device_or_Medical_Supply_3|Product_Category_or_Therapeutic_Area_3|Name_of_Drug_or_Biological_or_Device_or_Medical_Supply_3|Associated_Drug_or_Biological_NDC_3|Associated_Device_or_Medical_Supply_PDI_3|Covered_or_Noncovered_Indicator_4|Indicate_Drug_or_Biological_or_Device_or_Medical_Supply_4|Product_Category_or_Therapeutic_Area_4|Name_of_Drug_or_Biological_or_Device_or_Medical_Supply_4|Associated_Drug_or_Biological_NDC_4|Associated_Device_or_Medical_Supply_PDI_4|Covered_or_Noncovered_Indicator_5|Indicate_Drug_or_Biological_or_Device_or_Medical_Supply_5|Product_Category_or_Therapeutic_Area_5|Name_of_Drug_or_Biological_or_Device_or_Medical_Supply_5|Associated_Drug_or_Biological_NDC_5|Associated_Device_or_Medical_Supply_PDI_5|Program_Year|Payment_Publication_Date|\n+-----------+----------------------+---------------------+--------------------+----------------------+----------------------------+---------------------+----------------------------+-----------------------------+---------------------------+-----------------------------+-----------------------------------------------+-----------------------------------------------+---------------+---------------+------------------+-----------------+------------------+---------------------+--------------------------------+--------------------------------+--------------------------------+--------------------------------+--------------------------------+--------------------------------+-----------------------------+-----------------------------+-----------------------------+-----------------------------+-----------------------------+-----------------------------+-------------------------------------+-------------------------------------+-------------------------------------+-------------------------------------+-------------------------------------+---------------------------------------------------------+-----------------------------------------------------------+-------------------------------------------------------------+--------------------------------------------------------------+----------------------------------------------------------------+---------------------------------+---------------+-------------------------------------------+------------------------------------+--------------------------------------+--------------+---------------+-----------------+-----------------------------+---------------------------------------+-----------------------------------------------------------------+-----------------+----------------------------------------------+----------------------+------------------------------+----------+------------------------------+-------------------------+---------------------------------+---------------------------------------------------------+--------------------------------------+--------------------------------------------------------+-----------------------------------+-----------------------------------------+---------------------------------+---------------------------------------------------------+--------------------------------------+--------------------------------------------------------+-----------------------------------+-----------------------------------------+---------------------------------+---------------------------------------------------------+--------------------------------------+--------------------------------------------------------+-----------------------------------+-----------------------------------------+---------------------------------+---------------------------------------------------------+--------------------------------------+--------------------------------------------------------+-----------------------------------+-----------------------------------------+---------------------------------+---------------------------------------------------------+--------------------------------------+--------------------------------------------------------+-----------------------------------+-----------------------------------------+------------+------------------------+\n|    CHANGED|  Covered Recipient...|               220162|                9984|  Adventhealth Orlando|                        null|                 null|                        null|                         null|                       null|                         null|                               601 E Rollins St|                                           null|        Orlando|             FL|             32803|    United States|              null|                 null|                            null|                            null|                            null|                            null|                            null|                            null|                         null|                         null|                         null|                         null|                         null|                         null|                                 null|                                 null|                                 null|                                 null|                                 null|                                     Integra LifeScien...|                                               100000010950|                                         Integra LifeScien...|                                                            NJ|                                                   United States|                          2000.00|     07/20/2023|                                          1|                Cash or cash equi...|                                 Grant|          null|           null|             null|                           No|                   No Third Party Pa...|                                                             null|             null|                                          null|                  null|                            No|1031636873|                            No|                      Yes|                          Covered|                                                   Device|                   Neuro Critical Care|                                           CODMAN CERTAS|                               null|                           10381780529033|                             null|                                                     null|                                  null|                                                    null|                               null|                                     null|                             null|                                                     null|                                  null|                                                    null|                               null|                                     null|                             null|                                                     null|                                  null|                                                    null|                               null|                                     null|                             null|                                                     null|                                  null|                                                    null|                               null|                                     null|        2023|              01/30/2025|\n|    CHANGED|  Covered Recipient...|               220162|                9984|  Carle Foundation ...|                        null|                 null|                        null|                         null|                       null|                         null|                            2300 N Vermilion St|                                           null|       Danville|             IL|             61832|    United States|              null|                 null|                            null|                            null|                            null|                            null|                            null|                            null|                         null|                         null|                         null|                         null|                         null|                         null|                                 null|                                 null|                                 null|                                 null|                                 null|                                     Integra LifeScien...|                                               100000010950|                                         Integra LifeScien...|                                                            NJ|                                                   United States|                          1500.00|     11/03/2023|                                          1|                Cash or cash equi...|                                 Grant|          null|           null|             null|                           No|                   No Third Party Pa...|                                                             null|             null|                                          null|                  null|                            No|1031636879|                            No|                      Yes|                          Covered|                                                   Device|                   Neuro Critical Care|                                           CODMAN CERTAS|                               null|                           10381780529033|                             null|                                                     null|                                  null|                                                    null|                               null|                                     null|                             null|                                                     null|                                  null|                                                    null|                               null|                                     null|                             null|                                                     null|                                  null|                                                    null|                               null|                                     null|                             null|                                                     null|                                  null|                                                    null|                               null|                                     null|        2023|              01/30/2025|\n|    CHANGED|  Covered Recipient...|               220162|                9984|  St. Josephs Hospi...|                        null|                 null|                        null|                         null|                       null|                         null|                           4975 N Dysart Rd ...|                                           null|Litchfield Park|             AZ|             85340|    United States|              null|                 null|                            null|                            null|                            null|                            null|                            null|                            null|                         null|                         null|                         null|                         null|                         null|                         null|                                 null|                                 null|                                 null|                                 null|                                 null|                                     Integra LifeScien...|                                               100000010950|                                         Integra LifeScien...|                                                            NJ|                                                   United States|                          2500.00|     03/21/2023|                                          1|                Cash or cash equi...|                                 Grant|          null|           null|             null|                           No|                   No Third Party Pa...|                                                             null|             null|                                          null|                  null|                            No|1031636885|                            No|                      Yes|                          Covered|                                                   Device|                   Neuro Critical Care|                                           CODMAN CERTAS|                               null|                           10381780529033|                             null|                                                     null|                                  null|                                                    null|                               null|                                     null|                             null|                                                     null|                                  null|                                                    null|                               null|                                     null|                             null|                                                     null|                                  null|                                                    null|                               null|                                     null|                             null|                                                     null|                                  null|                                                    null|                               null|                                     null|        2023|              01/30/2025|\n|    CHANGED|  Covered Recipient...|               220162|                9984|  St. Josephs Hospi...|                        null|                 null|                        null|                         null|                       null|                         null|                           4975 N Dysart Rd ...|                                           null|Litchfield Park|             AZ|             85340|    United States|              null|                 null|                            null|                            null|                            null|                            null|                            null|                            null|                         null|                         null|                         null|                         null|                         null|                         null|                                 null|                                 null|                                 null|                                 null|                                 null|                                     Integra LifeScien...|                                               100000010950|                                         Integra LifeScien...|                                                            NJ|                                                   United States|                          3000.00|     04/14/2023|                                          1|                Cash or cash equi...|                                 Grant|          null|           null|             null|                           No|                   No Third Party Pa...|                                                             null|             null|                                          null|                  null|                            No|1031636889|                            No|                      Yes|                          Covered|                                                   Device|                   Neuro Critical Care|                                           CODMAN CERTAS|                               null|                           10381780529033|                             null|                                                     null|                                  null|                                                    null|                               null|                                     null|                             null|                                                     null|                                  null|                                                    null|                               null|                                     null|                             null|                                                     null|                                  null|                                                    null|                               null|                                     null|                             null|                                                     null|                                  null|                                                    null|                               null|                                     null|        2023|              01/30/2025|\n|    CHANGED|  Covered Recipient...|               220162|                9984|  Uc Davis Medical ...|                        null|                 null|                        null|                         null|                       null|                         null|                             2315 Stockton Blvd|                                           null|     Sacramento|             CA|             95817|    United States|              null|                 null|                            null|                            null|                            null|                            null|                            null|                            null|                         null|                         null|                         null|                         null|                         null|                         null|                                 null|                                 null|                                 null|                                 null|                                 null|                                     Integra LifeScien...|                                               100000010950|                                         Integra LifeScien...|                                                            NJ|                                                   United States|                          3921.61|     04/30/2023|                                          1|                Cash or cash equi...|                             Honoraria|          null|           null|             null|                           No|                   No Third Party Pa...|                                                             null|             null|                                          null|                  null|                            No|1031636896|                            No|                      Yes|                          Covered|                                                   Device|                   Neuro Critical Care|                                           CODMAN CERTAS|                               null|                           10381780529033|                          Covered|                                                   Device|                   Neuro Critical Care|                                            CUSA CLARITY|                               null|                           10381780126232|                             null|                                                     null|                                  null|                                                    null|                               null|                                     null|                             null|                                                     null|                                  null|                                                    null|                               null|                                     null|                             null|                                                     null|                                  null|                                                    null|                               null|                                     null|        2023|              01/30/2025|\n+-----------+----------------------+---------------------+--------------------+----------------------+----------------------------+---------------------+----------------------------+-----------------------------+---------------------------+-----------------------------+-----------------------------------------------+-----------------------------------------------+---------------+---------------+------------------+-----------------+------------------+---------------------+--------------------------------+--------------------------------+--------------------------------+--------------------------------+--------------------------------+--------------------------------+-----------------------------+-----------------------------+-----------------------------+-----------------------------+-----------------------------+-----------------------------+-------------------------------------+-------------------------------------+-------------------------------------+-------------------------------------+-------------------------------------+---------------------------------------------------------+-----------------------------------------------------------+-------------------------------------------------------------+--------------------------------------------------------------+----------------------------------------------------------------+---------------------------------+---------------+-------------------------------------------+------------------------------------+--------------------------------------+--------------+---------------+-----------------+-----------------------------+---------------------------------------+-----------------------------------------------------------------+-----------------+----------------------------------------------+----------------------+------------------------------+----------+------------------------------+-------------------------+---------------------------------+---------------------------------------------------------+--------------------------------------+--------------------------------------------------------+-----------------------------------+-----------------------------------------+---------------------------------+---------------------------------------------------------+--------------------------------------+--------------------------------------------------------+-----------------------------------+-----------------------------------------+---------------------------------+---------------------------------------------------------+--------------------------------------+--------------------------------------------------------+-----------------------------------+-----------------------------------------+---------------------------------+---------------------------------------------------------+--------------------------------------+--------------------------------------------------------+-----------------------------------+-----------------------------------------+---------------------------------+---------------------------------------------------------+--------------------------------------+--------------------------------------------------------+-----------------------------------+-----------------------------------------+------------+------------------------+\nonly showing top 5 rows\n\n✅ Recipient Profiles Preview:\n+------------------------------+----------------------------+-----------------------------------------+-----------------------------------------+---------------------+------------------------------------+-------------------------------------+-----------------------------------+--------------------------------+----------------------------------------------+-----------------------------------------------+---------------------------------------------+------------------------------------------+----------------------------------------+----------------------------------------+------------------------------+-------------------------------+---------------------------------+--------------------------------------+---------------------------------------+-------------------------------------------+----------------------------------------+----------------------------------------+----------------------------------------+----------------------------------------+----------------------------------------+----------------------------------------+----------------------------------------------+----------------------------------------------+----------------------------------------------+----------------------------------------------+----------------------------------------------+\n|Covered_Recipient_Profile_Type|Covered_Recipient_Profile_ID|Associated_Covered_Recipient_Profile_ID_1|Associated_Covered_Recipient_Profile_ID_2|Covered_Recipient_NPI|Covered_Recipient_Profile_First_Name|Covered_Recipient_Profile_Middle_Name|Covered_Recipient_Profile_Last_Name|Covered_Recipient_Profile_Suffix|Covered_Recipient_Profile_Alternate_First_Name|Covered_Recipient_Profile_Alternate_Middle_Name|Covered_Recipient_Profile_Alternate_Last_Name|Covered_Recipient_Profile_Alternate_Suffix|Covered_Recipient_Profile_Address_Line_1|Covered_Recipient_Profile_Address_Line_2|Covered_Recipient_Profile_City|Covered_Recipient_Profile_State|Covered_Recipient_Profile_Zipcode|Covered_Recipient_Profile_Country_Name|Covered_Recipient_Profile_Province_Name|Covered_Recipient_Profile_Primary_Specialty|Covered_Recipient_Profile_OPS_Taxonomy_1|Covered_Recipient_Profile_OPS_Taxonomy_2|Covered_Recipient_Profile_OPS_Taxonomy_3|Covered_Recipient_Profile_OPS_Taxonomy_4|Covered_Recipient_Profile_OPS_Taxonomy_5|Covered_Recipient_Profile_OPS_Taxonomy_6|Covered_Recipient_Profile_License_State_Code_1|Covered_Recipient_Profile_License_State_Code_2|Covered_Recipient_Profile_License_State_Code_3|Covered_Recipient_Profile_License_State_Code_4|Covered_Recipient_Profile_License_State_Code_5|\n+------------------------------+----------------------------+-----------------------------------------+-----------------------------------------+---------------------+------------------------------------+-------------------------------------+-----------------------------------+--------------------------------+----------------------------------------------+-----------------------------------------------+---------------------------------------------+------------------------------------------+----------------------------------------+----------------------------------------+------------------------------+-------------------------------+---------------------------------+--------------------------------------+---------------------------------------+-------------------------------------------+----------------------------------------+----------------------------------------+----------------------------------------+----------------------------------------+----------------------------------------+----------------------------------------+----------------------------------------------+----------------------------------------------+----------------------------------------------+----------------------------------------------+----------------------------------------------+\n|          Covered Recipient...|                           1|                                     null|                                     null|           1003020595|                               BARRY|                                    D|                            SIMMONS|                            null|                                        BARRON|                                          DAVID|                                      SIMMONS|                                      null|                    847 SOUTH MILLEDG...|                                    null|                        ATHENS|                             GA|                       30605-1331|                         UNITED STATES|                                   null|                       Dental Providers|...|                              1223G0001X|                                    null|                                    null|                                    null|                                    null|                                    null|                                            GA|                                          null|                                          null|                                          null|                                          null|\n|          Covered Recipient...|                           2|                                     null|                                     null|           1003022823|                             LINDSEY|                                    R|                           SCHUSTER|                            null|                                       LINDSEY|                                              R|                                       GROBER|                                      null|                             15 HEIDI LN|                                    null|                   MOUNT SINAI|                             NY|                       11766-1428|                         UNITED STATES|                                   null|                       Allopathic & Oste...|                              207P00000X|                                    null|                                    null|                                    null|                                    null|                                    null|                                            NY|                                            PA|                                          null|                                          null|                                          null|\n|          Covered Recipient...|                           3|                                     null|                                     null|           1003023359|                              JUSTIN|                                    H|                            RACKLEY|                            null|                                        JUSTIN|                                         HAMWAY|                                      RACKLEY|                                      null|                     1001 SAM PERRY BLVD|                                    null|                FREDERICKSBURG|                             VA|                       22401-4453|                         UNITED STATES|                                   null|                       Allopathic & Oste...|                              207L00000X|                                    null|                                    null|                                    null|                                    null|                                    null|                                            VA|                                            OH|                                          null|                                          null|                                          null|\n|          Covered Recipient...|                           4|                                     null|                                     null|           1003024811|                                LISA|                                    L|                            HAMAKER|                            null|                                          null|                                           null|                                         null|                                      null|                    100 MARKET ST STE...|                                    null|                  COLLEGEVILLE|                             PA|                       19426-4927|                         UNITED STATES|                                   null|                       Allopathic & Oste...|                              207RE0101X|                                    null|                                    null|                                    null|                                    null|                                    null|                                            PA|                                          null|                                          null|                                          null|                                          null|\n|          Covered Recipient...|                           5|                                     null|                                     null|           1003025875|                             PATRICK|                                    E|                              DAVOL|                            null|                                       PATRICK|                                           ERIN|                                        DAVOL|                                      null|                    1698 E MCANDREWS ...|                                    null|                       MEDFORD|                             OR|                       97504-5590|                         UNITED STATES|                                   null|                       Allopathic & Oste...|                              208800000X|                                    null|                                    null|                                    null|                                    null|                                    null|                                            OR|                                            IN|                                          null|                                          null|                                          null|\n+------------------------------+----------------------------+-----------------------------------------+-----------------------------------------+---------------------+------------------------------------+-------------------------------------+-----------------------------------+--------------------------------+----------------------------------------------+-----------------------------------------------+---------------------------------------------+------------------------------------------+----------------------------------------+----------------------------------------+------------------------------+-------------------------------+---------------------------------+--------------------------------------+---------------------------------------+-------------------------------------------+----------------------------------------+----------------------------------------+----------------------------------------+----------------------------------------+----------------------------------------+----------------------------------------+----------------------------------------------+----------------------------------------------+----------------------------------------------+----------------------------------------------+----------------------------------------------+\nonly showing top 5 rows\n\n"
     ]
    }
   ],
   "source": [
    "# Load files using 'file'\n",
    "general_df = spark.read.csv(\"file:/dbfs/FileStore/tables/general.csv\", header=True, inferSchema=True)\n",
    "recipient_df = spark.read.csv(\"file:/dbfs/FileStore/tables/recipient.csv\", header=True, inferSchema=True)\n",
    "\n",
    "# Show previews\n",
    "print(\"✅ General Payments Preview:\")\n",
    "general_df.show(5)\n",
    "\n",
    "print(\"✅ Recipient Profiles Preview:\")\n",
    "recipient_df.show(5)\n"
   ]
  },
  {
   "cell_type": "code",
   "execution_count": 0,
   "metadata": {
    "application/vnd.databricks.v1+cell": {
     "cellMetadata": {
      "byteLimit": 2048000,
      "rowLimit": 10000
     },
     "inputWidgets": {},
     "nuid": "c737f1bb-e10a-4d8d-9d3f-beeab24c7171",
     "showTitle": false,
     "tableResultSettingsMap": {},
     "title": ""
    }
   },
   "outputs": [
    {
     "output_type": "stream",
     "name": "stdout",
     "output_type": "stream",
     "text": [
      "+--------------------------------------------------------------------------------------------------------------------------------------------------+------+\n|Nature_of_Payment_or_Transfer_of_Value                                                                                                            |Count |\n+--------------------------------------------------------------------------------------------------------------------------------------------------+------+\n|Compensation for services other than consulting, including serving as faculty or as a speaker at a venue other than a continuing education program|164092|\n|Consulting Fee                                                                                                                                    |105228|\n|Travel and Lodging                                                                                                                                |24738 |\n|Honoraria                                                                                                                                         |13750 |\n|Education                                                                                                                                         |13376 |\n|Royalty or License                                                                                                                                |11534 |\n|Compensation for serving as faculty or as a speaker for a medical education program                                                               |8658  |\n|Grant                                                                                                                                             |4922  |\n|Space rental or facility fees (teaching hospital only)                                                                                            |4917  |\n|Long term medical supply or device loan                                                                                                           |2930  |\n|Debt forgiveness                                                                                                                                  |1787  |\n|Food and Beverage                                                                                                                                 |966   |\n|Gift                                                                                                                                              |630   |\n|Acquisitions                                                                                                                                      |562   |\n|Charitable Contribution                                                                                                                           |239   |\n|Entertainment                                                                                                                                     |30    |\n+--------------------------------------------------------------------------------------------------------------------------------------------------+------+\n\n"
     ]
    }
   ],
   "source": [
    "#1. What is the Nature of Payments with reimbursement amounts > $1,000, ordered by count?\n",
    "from pyspark.sql.functions import col, count\n",
    "\n",
    "general_df.filter(col(\"Total_Amount_of_Payment_USDollars\") > 1000) \\\n",
    "    .groupBy(\"Nature_of_Payment_or_Transfer_of_Value\") \\\n",
    "    .agg(count(\"*\").alias(\"Count\")) \\\n",
    "    .orderBy(col(\"Count\").desc()) \\\n",
    "    .show(truncate=False)\n"
   ]
  },
  {
   "cell_type": "code",
   "execution_count": 0,
   "metadata": {
    "application/vnd.databricks.v1+cell": {
     "cellMetadata": {
      "byteLimit": 2048000,
      "rowLimit": 10000
     },
     "inputWidgets": {},
     "nuid": "6c980c3f-5ec8-4c2a-9207-8a277aff051f",
     "showTitle": false,
     "tableResultSettingsMap": {},
     "title": ""
    }
   },
   "outputs": [
    {
     "output_type": "stream",
     "name": "stdout",
     "output_type": "stream",
     "text": [
      "+--------------------------------------------------------------------------------------------------------------------------------------------------+--------+\n|Nature_of_Payment_or_Transfer_of_Value                                                                                                            |Count   |\n+--------------------------------------------------------------------------------------------------------------------------------------------------+--------+\n|Food and Beverage                                                                                                                                 |13378464|\n|Travel and Lodging                                                                                                                                |545086  |\n|Compensation for services other than consulting, including serving as faculty or as a speaker at a venue other than a continuing education program|236628  |\n|Consulting Fee                                                                                                                                    |170630  |\n|Education                                                                                                                                         |161078  |\n|Gift                                                                                                                                              |31786   |\n|Honoraria                                                                                                                                         |20232   |\n|Royalty or License                                                                                                                                |15865   |\n|Compensation for serving as faculty or as a speaker for a medical education program                                                               |12234   |\n|Entertainment                                                                                                                                     |7967    |\n+--------------------------------------------------------------------------------------------------------------------------------------------------+--------+\nonly showing top 10 rows\n\n"
     ]
    }
   ],
   "source": [
    "#2. What are the Top 10 Nature of Payments by count?\n",
    "general_df.groupBy(\"Nature_of_Payment_or_Transfer_of_Value\") \\\n",
    "    .agg(count(\"*\").alias(\"Count\")) \\\n",
    "    .orderBy(col(\"Count\").desc()) \\\n",
    "    .show(10, truncate=False)\n"
   ]
  },
  {
   "cell_type": "code",
   "execution_count": 0,
   "metadata": {
    "application/vnd.databricks.v1+cell": {
     "cellMetadata": {
      "byteLimit": 2048000,
      "rowLimit": 10000
     },
     "inputWidgets": {},
     "nuid": "03c9ce90-d624-4c54-9e57-293c9ac50fe6",
     "showTitle": false,
     "tableResultSettingsMap": {},
     "title": ""
    }
   },
   "outputs": [
    {
     "output_type": "stream",
     "name": "stdout",
     "output_type": "stream",
     "text": [
      "+--------------------------------------------------------------------------------------------------------------------------------------------------+--------------------+\n|Nature_of_Payment_or_Transfer_of_Value                                                                                                            |Total_Payment       |\n+--------------------------------------------------------------------------------------------------------------------------------------------------+--------------------+\n|Royalty or License                                                                                                                                |1.19217456302E9     |\n|Compensation for services other than consulting, including serving as faculty or as a speaker at a venue other than a continuing education program|5.946326876500002E8 |\n|Consulting Fee                                                                                                                                    |5.148558758999996E8 |\n|Food and Beverage                                                                                                                                 |3.744878240099897E8 |\n|Travel and Lodging                                                                                                                                |1.7954842378000867E8|\n|Grant                                                                                                                                             |1.1188856182E8      |\n|Acquisitions                                                                                                                                      |7.192577675999999E7 |\n|Education                                                                                                                                         |6.469532594000257E7 |\n|Honoraria                                                                                                                                         |5.585182388999997E7 |\n|Long term medical supply or device loan                                                                                                           |3.009879195E7       |\n+--------------------------------------------------------------------------------------------------------------------------------------------------+--------------------+\nonly showing top 10 rows\n\n"
     ]
    }
   ],
   "source": [
    "#3. What are the Top 10 Nature of Payments by total amount?\n",
    "from pyspark.sql.functions import sum as spark_sum\n",
    "\n",
    "general_df.groupBy(\"Nature_of_Payment_or_Transfer_of_Value\") \\\n",
    "    .agg(spark_sum(\"Total_Amount_of_Payment_USDollars\").alias(\"Total_Payment\")) \\\n",
    "    .orderBy(col(\"Total_Payment\").desc()) \\\n",
    "    .show(10, truncate=False)\n"
   ]
  },
  {
   "cell_type": "code",
   "execution_count": 0,
   "metadata": {
    "application/vnd.databricks.v1+cell": {
     "cellMetadata": {
      "byteLimit": 2048000,
      "rowLimit": 10000
     },
     "inputWidgets": {},
     "nuid": "04f70ad8-62b9-4359-abc0-446c1a545df1",
     "showTitle": false,
     "tableResultSettingsMap": {},
     "title": ""
    }
   },
   "outputs": [
    {
     "output_type": "stream",
     "name": "stdout",
     "output_type": "stream",
     "text": [
      "🔎 Columns in general_df:\nChange_Type\nCovered_Recipient_Type\nTeaching_Hospital_CCN\nTeaching_Hospital_ID\nTeaching_Hospital_Name\nCovered_Recipient_Profile_ID\nCovered_Recipient_NPI\nCovered_Recipient_First_Name\nCovered_Recipient_Middle_Name\nCovered_Recipient_Last_Name\nCovered_Recipient_Name_Suffix\nRecipient_Primary_Business_Street_Address_Line1\nRecipient_Primary_Business_Street_Address_Line2\nRecipient_City\nRecipient_State\nRecipient_Zip_Code\nRecipient_Country\nRecipient_Province\nRecipient_Postal_Code\nCovered_Recipient_Primary_Type_1\nCovered_Recipient_Primary_Type_2\nCovered_Recipient_Primary_Type_3\nCovered_Recipient_Primary_Type_4\nCovered_Recipient_Primary_Type_5\nCovered_Recipient_Primary_Type_6\nCovered_Recipient_Specialty_1\nCovered_Recipient_Specialty_2\nCovered_Recipient_Specialty_3\nCovered_Recipient_Specialty_4\nCovered_Recipient_Specialty_5\nCovered_Recipient_Specialty_6\nCovered_Recipient_License_State_code1\nCovered_Recipient_License_State_code2\nCovered_Recipient_License_State_code3\nCovered_Recipient_License_State_code4\nCovered_Recipient_License_State_code5\nSubmitting_Applicable_Manufacturer_or_Applicable_GPO_Name\nApplicable_Manufacturer_or_Applicable_GPO_Making_Payment_ID\nApplicable_Manufacturer_or_Applicable_GPO_Making_Payment_Name\nApplicable_Manufacturer_or_Applicable_GPO_Making_Payment_State\nApplicable_Manufacturer_or_Applicable_GPO_Making_Payment_Country\nTotal_Amount_of_Payment_USDollars\nDate_of_Payment\nNumber_of_Payments_Included_in_Total_Amount\nForm_of_Payment_or_Transfer_of_Value\nNature_of_Payment_or_Transfer_of_Value\nCity_of_Travel\nState_of_Travel\nCountry_of_Travel\nPhysician_Ownership_Indicator\nThird_Party_Payment_Recipient_Indicator\nName_of_Third_Party_Entity_Receiving_Payment_or_Transfer_of_Value\nCharity_Indicator\nThird_Party_Equals_Covered_Recipient_Indicator\nContextual_Information\nDelay_in_Publication_Indicator\nRecord_ID\nDispute_Status_for_Publication\nRelated_Product_Indicator\nCovered_or_Noncovered_Indicator_1\nIndicate_Drug_or_Biological_or_Device_or_Medical_Supply_1\nProduct_Category_or_Therapeutic_Area_1\nName_of_Drug_or_Biological_or_Device_or_Medical_Supply_1\nAssociated_Drug_or_Biological_NDC_1\nAssociated_Device_or_Medical_Supply_PDI_1\nCovered_or_Noncovered_Indicator_2\nIndicate_Drug_or_Biological_or_Device_or_Medical_Supply_2\nProduct_Category_or_Therapeutic_Area_2\nName_of_Drug_or_Biological_or_Device_or_Medical_Supply_2\nAssociated_Drug_or_Biological_NDC_2\nAssociated_Device_or_Medical_Supply_PDI_2\nCovered_or_Noncovered_Indicator_3\nIndicate_Drug_or_Biological_or_Device_or_Medical_Supply_3\nProduct_Category_or_Therapeutic_Area_3\nName_of_Drug_or_Biological_or_Device_or_Medical_Supply_3\nAssociated_Drug_or_Biological_NDC_3\nAssociated_Device_or_Medical_Supply_PDI_3\nCovered_or_Noncovered_Indicator_4\nIndicate_Drug_or_Biological_or_Device_or_Medical_Supply_4\nProduct_Category_or_Therapeutic_Area_4\nName_of_Drug_or_Biological_or_Device_or_Medical_Supply_4\nAssociated_Drug_or_Biological_NDC_4\nAssociated_Device_or_Medical_Supply_PDI_4\nCovered_or_Noncovered_Indicator_5\nIndicate_Drug_or_Biological_or_Device_or_Medical_Supply_5\nProduct_Category_or_Therapeutic_Area_5\nName_of_Drug_or_Biological_or_Device_or_Medical_Supply_5\nAssociated_Drug_or_Biological_NDC_5\nAssociated_Device_or_Medical_Supply_PDI_5\nProgram_Year\nPayment_Publication_Date\n"
     ]
    }
   ],
   "source": [
    "# get column names \n",
    "print(\"🔎 Columns in general_df:\")\n",
    "for col_name in general_df.columns:\n",
    "    print(col_name)\n"
   ]
  },
  {
   "cell_type": "code",
   "execution_count": 0,
   "metadata": {
    "application/vnd.databricks.v1+cell": {
     "cellMetadata": {
      "byteLimit": 2048000,
      "rowLimit": 10000
     },
     "inputWidgets": {},
     "nuid": "b662c30e-9277-4928-a0df-6ed9e2414e6e",
     "showTitle": false,
     "tableResultSettingsMap": {},
     "title": ""
    }
   },
   "outputs": [
    {
     "output_type": "stream",
     "name": "stdout",
     "output_type": "stream",
     "text": [
      "+------------------------------------------------------------------------------------------------+--------------------+\n|Covered_Recipient_Specialty_1                                                                   |Total_Payment       |\n+------------------------------------------------------------------------------------------------+--------------------+\n|null                                                                                            |7.936674692300001E8 |\n|Allopathic & Osteopathic Physicians|Orthopaedic Surgery                                         |4.0345021308999825E8|\n|Allopathic & Osteopathic Physicians|Internal Medicine                                           |1.3136300307000063E8|\n|Allopathic & Osteopathic Physicians|Psychiatry & Neurology|Neurology                            |8.979213626000014E7 |\n|Allopathic & Osteopathic Physicians|Neurological Surgery                                        |8.608847857000013E7 |\n|Allopathic & Osteopathic Physicians|Dermatology                                                 |8.320264774000064E7 |\n|Allopathic & Osteopathic Physicians|Internal Medicine|Cardiovascular Disease                    |7.022084115000033E7 |\n|Allopathic & Osteopathic Physicians|Internal Medicine|Hematology & Oncology                     |6.946894121000056E7 |\n|Allopathic & Osteopathic Physicians|Orthopaedic Surgery|Adult Reconstructive Orthopaedic Surgery|6.6772837490000024E7|\n|Allopathic & Osteopathic Physicians|Psychiatry & Neurology|Psychiatry                           |6.329825407000022E7 |\n+------------------------------------------------------------------------------------------------+--------------------+\nonly showing top 10 rows\n\n"
     ]
    }
   ],
   "source": [
    "#4. What are the Top 10 Physician Specialties by total amount?\n",
    "from pyspark.sql.functions import sum as spark_sum, col\n",
    "\n",
    "general_df.groupBy(\"Covered_Recipient_Specialty_1\") \\\n",
    "    .agg(spark_sum(\"Total_Amount_of_Payment_USDollars\").alias(\"Total_Payment\")) \\\n",
    "    .orderBy(col(\"Total_Payment\").desc()) \\\n",
    "    .show(10, truncate=False)\n",
    "\n"
   ]
  },
  {
   "cell_type": "code",
   "execution_count": 0,
   "metadata": {
    "application/vnd.databricks.v1+cell": {
     "cellMetadata": {
      "byteLimit": 2048000,
      "rowLimit": 10000
     },
     "inputWidgets": {},
     "nuid": "7b598fa6-645a-41e4-95a5-b5bea7d3f659",
     "showTitle": false,
     "tableResultSettingsMap": {},
     "title": ""
    }
   },
   "outputs": [
    {
     "output_type": "stream",
     "name": "stdout",
     "output_type": "stream",
     "text": [
      "+----------------+-------------------+\n|Physician_Name  |Total_Payment      |\n+----------------+-------------------+\n|                |7.933900857900002E8|\n|STEPHEN BURKHART|3.392202493E7      |\n|WILLIAM BINDER  |2.943437497E7      |\n|KEVIN FOLEY     |1.73059378E7       |\n|IVAN OSORIO     |1.606551551E7      |\n|GEORGE MAXWELL  |1.160032024E7      |\n|ROBERT BOOTH    |8459167.19         |\n|NEAL ELATTRACHE |7810628.2          |\n|AARON ROSENBERG |6883627.290000001  |\n|ROGER JACKSON   |6615711.26         |\n+----------------+-------------------+\nonly showing top 10 rows\n\n"
     ]
    }
   ],
   "source": [
    "# 5. Who are the Top 10 Physicians by total amount?\n",
    "from pyspark.sql.functions import concat_ws, col, sum as spark_sum\n",
    "\n",
    "# Combine first and last name into one column\n",
    "general_df_with_names = general_df.withColumn(\n",
    "    \"Physician_Name\",\n",
    "    concat_ws(\" \", col(\"Covered_Recipient_First_Name\"), col(\"Covered_Recipient_Last_Name\"))\n",
    ")\n",
    "\n",
    "# Group by Physician_Name and get total amount\n",
    "general_df_with_names.groupBy(\"Physician_Name\") \\\n",
    "    .agg(spark_sum(\"Total_Amount_of_Payment_USDollars\").alias(\"Total_Payment\")) \\\n",
    "    .orderBy(col(\"Total_Payment\").desc()) \\\n",
    "    .show(10, truncate=False)"
   ]
  }
 ],
 "metadata": {
  "application/vnd.databricks.v1+notebook": {
   "computePreferences": null,
   "dashboards": [],
   "environmentMetadata": {
    "base_environment": "",
    "client": "1"
   },
   "language": "python",
   "notebookMetadata": {
    "pythonIndentUnit": 4
   },
   "notebookName": "Untitled Notebook 2025-03-23 13:32:46",
   "widgets": {}
  }
 },
 "nbformat": 4,
 "nbformat_minor": 0
}
