{
  "cells": [
    {
      "cell_type": "code",
      "source": [
        "from collections import deque\n",
        "\n",
        "# Stack Implementation using List\n",
        "stack = []\n",
        "stack.append(1)  # Push\n",
        "stack.append(2)\n",
        "stack.append(3)\n",
        "print(\"Stack:\", stack)\n",
        "\n",
        "stack.pop()  # Pop\n",
        "print(\"Stack after pop:\", stack)\n",
        "\n",
        "# Queue Implementation using deque\n",
        "queue = deque()\n",
        "queue.append(1)  # Enqueue\n",
        "queue.append(2)\n",
        "queue.append(3)\n",
        "print(\"Queue:\", queue)\n",
        "\n",
        "queue.popleft()  # Dequeue\n",
        "print(\"Queue after dequeue:\", queue)\n"
      ],
      "metadata": {
        "id": "xFZS7-o6qgCG",
        "outputId": "846425bd-73aa-4c9a-d37e-afdf68c92191",
        "colab": {
          "base_uri": "https://localhost:8080/"
        }
      },
      "execution_count": 1,
      "outputs": [
        {
          "output_type": "stream",
          "name": "stdout",
          "text": [
            "Stack: [1, 2, 3]\n",
            "Stack after pop: [1, 2]\n",
            "Queue: deque([1, 2, 3])\n",
            "Queue after dequeue: deque([2, 3])\n"
          ]
        }
      ]
    }
  ],
  "metadata": {
    "colab": {
      "name": "Welcome To Colab",
      "toc_visible": true,
      "provenance": []
    },
    "kernelspec": {
      "display_name": "Python 3",
      "name": "python3"
    }
  },
  "nbformat": 4,
  "nbformat_minor": 0
}