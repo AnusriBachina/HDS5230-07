{
  "cells": [
    {
      "cell_type": "code",
      "source": [
        "!pip install deap"
      ],
      "metadata": {
        "id": "fpHobuzqUpc9",
        "outputId": "d8be0656-332e-4255-ad18-d4554a62305e",
        "colab": {
          "base_uri": "https://localhost:8080/"
        }
      },
      "execution_count": 71,
      "outputs": [
        {
          "output_type": "stream",
          "name": "stdout",
          "text": [
            "Requirement already satisfied: deap in /usr/local/lib/python3.11/dist-packages (1.4.2)\n",
            "Requirement already satisfied: numpy in /usr/local/lib/python3.11/dist-packages (from deap) (1.26.4)\n"
          ]
        }
      ]
    },
    {
      "cell_type": "code",
      "source": [
        "#Import necessary libraries\n",
        "import pandas as pd\n",
        "import geopandas as gpd\n",
        "import numpy as np\n",
        "from geopy.distance import great_circle\n",
        "from deap import base, creator, tools, algorithms\n",
        "import random"
      ],
      "metadata": {
        "id": "t2RIlUXXUsqr"
      },
      "execution_count": 72,
      "outputs": []
    },
    {
      "cell_type": "code",
      "source": [
        "#Step 1: Load Population Data\n",
        "pop_data = pd.read_csv(\"Mo_pop_Sim.csv\")\n",
        "\n",
        "#Randomly sample a small subset (0.01%) of the population data for efficiency\n",
        "small_data = pop_data.sample(frac=SAMPLE_FRACTION, random_state=42)\n",
        "\n",
        "#Extract population coordinates\n",
        "pop_coords = small_data[['long', 'lat']].values"
      ],
      "metadata": {
        "id": "7aBGAxCDU3Y2"
      },
      "execution_count": 74,
      "outputs": []
    },
    {
      "cell_type": "code",
      "source": [
        "#Step 2: Load FQHC Data\n",
        "fqhc_data = gpd.read_file(\"MO_2018_Federally_Qualified_Health_Center_Locations.shp\")\n",
        "\n",
        "#Extract FQHC coordinates\n",
        "fqhc_coords = fqhc_data[['Longitude', 'Latitude']].values"
      ],
      "metadata": {
        "id": "TazXYb-9U6wN"
      },
      "execution_count": 75,
      "outputs": []
    },
    {
      "cell_type": "code",
      "source": [
        "#APPROACH 1: AVERAGE DISTANCE TO POPULATION CENTERS\n",
        "def calc_avg_distance(fqhc_idx):\n",
        "    \"\"\"Calculates the average distance from an FQHC to all population locations.\"\"\"\n",
        "    #Extract population coordinates\n",
        "    pop_coords = small_data[['lat', 'long']].values\n",
        "\n",
        "    #Extract FQHC coordinates\n",
        "    fqhc_coords = fqhc_data[['Latitude', 'Longitude']].values\n",
        "\n",
        "    #fqhc_idx is now correctly passed as an argument to the function\n",
        "    fqhc_coord = fqhc_coords[fqhc_idx]\n",
        "    distances = [great_circle(fqhc_coord, pop_coord).meters for pop_coord in pop_coords]\n",
        "    return np.mean(distances) / MILE_TO_METERS  # Convert to miles\n",
        "\n",
        "#Compute the average distance for each FQHC\n",
        "#The function is called with the index 'i' for each FQHC in the loop\n",
        "fqhc_data[\"avg_distance\"] = [calc_avg_distance(i) for i in range(len(fqhc_coords))]"
      ],
      "metadata": {
        "id": "xq5UbsdnVB7B"
      },
      "execution_count": 76,
      "outputs": []
    },
    {
      "cell_type": "code",
      "source": [
        "#STEP 3: SELECT TOP FQHCs BASED ON DIFFERENT METRICS\n",
        "#TOP 8 FQHCs BASED ON AVERAGE DISTANCE (CLOSER IS BETTER)\n",
        "top_by_distance = fqhc_data.nsmallest(8, \"avg_distance\")[[\"OBJECTID\", \"Facility\", \"City\", \"avg_distance\"]]\n",
        "print(\"Top 8 FQHCs by Closeness to Residents:\\n\", top_by_distance)\n",
        "\n",
        "#COMBINED SCORE: RANKING BOTH CRITERIA (ONLY DISTANCE INCLUDED)\n",
        "fqhc_data[\"dist_rank\"] = fqhc_data[\"avg_distance\"].rank()\n",
        "fqhc_data[\"combined_score\"] = fqhc_data[\"dist_rank\"] / len(fqhc_data)  # Adjusted for only one ranking criterion\n",
        "\n",
        "#TOP 8 FQHCs BASED ON COMBINED SCORE\n",
        "top_combined = fqhc_data.nsmallest(8, \"combined_score\")[[\"OBJECTID\", \"Facility\", \"City\", \"avg_distance\"]]\n",
        "print(\"Top 8 FQHCs by Combined Score:\\n\", top_combined)\n",
        "\n"
      ],
      "metadata": {
        "id": "2hhRhEirVC8Z",
        "outputId": "a042388c-ed49-4bfd-d9fc-6c62d7de484c",
        "colab": {
          "base_uri": "https://localhost:8080/"
        }
      },
      "execution_count": 78,
      "outputs": [
        {
          "output_type": "stream",
          "name": "stdout",
          "text": [
            "Top 8 FQHCs by Closeness to Residents:\n",
            "      OBJECTID                                           Facility  \\\n",
            "44         45  Community Health Center of Central Missouri - ...   \n",
            "43         44  Community Health Center of Central Missouri - ...   \n",
            "45         46  Community Health Center of Central Missouri (A...   \n",
            "196       197  Community Health Center of Central Missouri St...   \n",
            "11         12  Community Health Center of Central Missouri - ...   \n",
            "42         43  Community Health Center of Central Missouri - ...   \n",
            "47         48  Compass Health/Crider Health Center (Behaviora...   \n",
            "50         51  Compass Health/Crider Health Center (Dental Se...   \n",
            "\n",
            "               City  avg_distance  \n",
            "44             Linn    106.018243  \n",
            "43   Jefferson City    106.963568  \n",
            "45   Jefferson City    106.963568  \n",
            "196  Jefferson City    107.042886  \n",
            "11           Fulton    108.943858  \n",
            "42       California    110.033516  \n",
            "47            Union    110.299238  \n",
            "50            Union    110.444956  \n",
            "Top 8 FQHCs by Combined Score:\n",
            "      OBJECTID                                           Facility  \\\n",
            "44         45  Community Health Center of Central Missouri - ...   \n",
            "43         44  Community Health Center of Central Missouri - ...   \n",
            "45         46  Community Health Center of Central Missouri (A...   \n",
            "196       197  Community Health Center of Central Missouri St...   \n",
            "11         12  Community Health Center of Central Missouri - ...   \n",
            "42         43  Community Health Center of Central Missouri - ...   \n",
            "47         48  Compass Health/Crider Health Center (Behaviora...   \n",
            "50         51  Compass Health/Crider Health Center (Dental Se...   \n",
            "\n",
            "               City  avg_distance  \n",
            "44             Linn    106.018243  \n",
            "43   Jefferson City    106.963568  \n",
            "45   Jefferson City    106.963568  \n",
            "196  Jefferson City    107.042886  \n",
            "11           Fulton    108.943858  \n",
            "42       California    110.033516  \n",
            "47            Union    110.299238  \n",
            "50            Union    110.444956  \n"
          ]
        }
      ]
    },
    {
      "cell_type": "code",
      "source": [
        "#STEP 4: OPTIMIZATION USING GENETIC ALGORITHM (GA)\n",
        "#Define fitness function (minimize average distance)\n",
        "def fitness_function(individual):\n",
        "    \"\"\"Computes the average distance for a given set of selected FQHCs.\"\"\"\n",
        "    total_distance = sum(calc_avg_distance(idx) for idx in individual)\n",
        "    avg_distance = total_distance / len(individual)  # Compute average distance\n",
        "    return avg_distance,\n",
        "\n",
        "#Setup GA using DEAP\n",
        "creator.create(\"FitnessMin\", base.Fitness, weights=(-1.0,))\n",
        "creator.create(\"Individual\", list, fitness=creator.FitnessMin)\n",
        "\n",
        "toolbox = base.Toolbox()\n",
        "toolbox.register(\"indices\", random.sample, range(len(fqhc_coords)), N_FQHC_SELECT)  # Random selection\n",
        "toolbox.register(\"individual\", tools.initIterate, creator.Individual, toolbox.indices)\n",
        "toolbox.register(\"population\", tools.initRepeat, list, toolbox.individual)\n",
        "\n",
        "#Register Genetic Algorithm functions\n",
        "toolbox.register(\"evaluate\", fitness_function)\n",
        "toolbox.register(\"mate\", tools.cxTwoPoint)\n",
        "toolbox.register(\"mutate\", tools.mutShuffleIndexes, indpb=0.2)\n",
        "toolbox.register(\"select\", tools.selTournament, tournsize=3)\n",
        "\n",
        "#Run the Genetic Algorithm\n",
        "population = toolbox.population(n=50)  # Create population of 50\n",
        "result = algorithms.eaSimple(population, toolbox, cxpb=0.7, mutpb=0.2, ngen=10, verbose=False)\n",
        "\n",
        "#Extract best solution\n",
        "best_individual = tools.selBest(population, k=1)[0]\n",
        "best_fqhc = fqhc_data.iloc[best_individual][[\"OBJECTID\", \"Facility\", \"City\", \"avg_distance\"]]\n",
        "print(\"Optimal 8 FQHCs for Mental Health Services (Minimizing Distance):\\n\", best_fqhc)\n"
      ],
      "metadata": {
        "id": "LiaV63j5Vybj",
        "outputId": "10b1e4ce-f12f-42f3-f897-4d92f83fa441",
        "colab": {
          "base_uri": "https://localhost:8080/"
        }
      },
      "execution_count": 79,
      "outputs": [
        {
          "output_type": "stream",
          "name": "stderr",
          "text": [
            "/usr/local/lib/python3.11/dist-packages/deap/creator.py:185: RuntimeWarning: A class named 'Individual' has already been created and it will be overwritten. Consider deleting previous creation of that class or rename it.\n",
            "  warnings.warn(\"A class named '{0}' has already been created and it \"\n"
          ]
        },
        {
          "output_type": "stream",
          "name": "stdout",
          "text": [
            "Optimal 8 FQHCs for Mental Health Services (Minimizing Distance):\n",
            "      OBJECTID                                           Facility  \\\n",
            "188       189  Your Community Health Center (Administration O...   \n",
            "11         12  Community Health Center of Central Missouri - ...   \n",
            "187       188                     Arthur Center Community Health   \n",
            "186       187       Family Health Center East (Medical & Dental)   \n",
            "43         44  Community Health Center of Central Missouri - ...   \n",
            "42         43  Community Health Center of Central Missouri - ...   \n",
            "42         43  Community Health Center of Central Missouri - ...   \n",
            "84         85  Katy Trail Community Health - Prairie Hills Cl...   \n",
            "\n",
            "               City  avg_distance  \n",
            "188           Rolla    110.993816  \n",
            "11           Fulton    108.943858  \n",
            "187          Mexico    115.627008  \n",
            "186        Columbia    111.730096  \n",
            "43   Jefferson City    106.963568  \n",
            "42       California    110.033516  \n",
            "42       California    110.033516  \n",
            "84       Versailles    112.412291  \n"
          ]
        }
      ]
    },
    {
      "cell_type": "markdown",
      "source": [
        "Rationale for Choosing Approach 1 (Average Closeness Score) & Assumptions\n",
        "\n",
        "I chose Approach 1 (Average Closeness Score) because it prioritizes accessibility by ensuring that the selected Federally Qualified Health Centers (FQHCs) are as close as possible to the population. This method reduces the average distance people must travel, making it easier for them to access mental health services.\n",
        "\n",
        "Assumptions in Computing Fitness:\n",
        "\n",
        "1. Equal Demand for Mental Health Services: Every individual in the dataset has an equal likelihood of needing mental health services.\n",
        "2. Distance is the Primary Accessibility Factor: Shorter distances directly translate to better access, ignoring other factors such as availability of transportation, socioeconomic barriers, or facility capacity.\n",
        "3. No Variations in Facility Capabilities: All FQHCs have equal capacity to handle mental health patients, meaning they can all offer the same level of service.\n",
        "4. Population Sampling is Representative: Considering a 0.01% sample of the population data for efficiency, the small sample accurately represents the entire population’s distribution.\n",
        "\n",
        "By focusing on minimizing average distance, this method ensures that more people can access mental health services with the least amount of travel time.\n",
        "Fitness Function - Metric & Optimization Objective Metric Computed The fitness function measures the average Haversine (great-circle) distance from each FQHC to all sampled residential locations.\n",
        "\n",
        "Optimization Objective: To minimize travel distance, the goal is to select FQHCs with the lowest average distance to residences. The lower the fitness score, the better the FQHC site for mental health service placement. By minimizing the average distance, this approach ensures that the selected FQHCs are located as close as possible to the majority of the population, increasing accessibility and utilization of mental health services."
      ],
      "metadata": {
        "id": "Rn-zWWqtXs-9"
      }
    }
  ],
  "metadata": {
    "colab": {
      "name": "Welcome To Colab",
      "provenance": []
    },
    "kernelspec": {
      "display_name": "Python 3",
      "name": "python3"
    }
  },
  "nbformat": 4,
  "nbformat_minor": 0
}